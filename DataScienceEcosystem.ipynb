{
 "cells": [
  {
   "cell_type": "markdown",
   "id": "b0ef336d-9742-4820-86bc-d6ced04f7e3c",
   "metadata": {},
   "source": [
    "<h1>Data Science Tools and Ecosystem<h1>"
   ]
  },
  {
   "cell_type": "markdown",
   "id": "287aa1eb-430a-485d-bd3f-72a2ebd8694b",
   "metadata": {},
   "source": [
    "`In this notebook, Data Science Tools and Ecosystem are summarized.`"
   ]
  },
  {
   "cell_type": "markdown",
   "id": "78ae32d3-487d-404e-b326-7b1684006d62",
   "metadata": {},
   "source": [
    "<b>Objective:</b>\n",
    "<ul>\n",
    "<li>popular languages that Data Scientists use</li>\n",
    "<li>commonly used libraries used by Data Scientists</li>\n",
    "<li>Data Science Tools</li>\n",
    "<li>Evaluating arithmetic expressions</li>\n",
    "</ul>"
   ]
  },
  {
   "cell_type": "markdown",
   "id": "3c3ff8f2-f254-4bb9-8266-72a54f7bf914",
   "metadata": {},
   "source": [
    "`Some of the popular languages that Data Scientists use are:`\n",
    "<ol>\n",
    "<li>Pyhthon</li>\n",
    "<li>R</li>\n",
    "<li>SQL</li>\n",
    "</ol>"
   ]
  },
  {
   "cell_type": "markdown",
   "id": "32312650-6b33-4490-ab40-33f7cfb68947",
   "metadata": {},
   "source": [
    "`Some of the commonly used libraries used by Data Scientists include:`\n",
    "<ol>\n",
    "<li>NumPy</li>\n",
    "<li>Pandas</li>\n",
    "<li>Scikit-learn</li>\n",
    "</ol>"
   ]
  },
  {
   "cell_type": "markdown",
   "id": "021c565b-bb49-4ef7-b8b9-7d587e880112",
   "metadata": {},
   "source": [
    "| Data Science Tool |\n",
    "| :- |\n",
    "| RStudio |\n",
    "| Apache Spark |\n",
    "| TensorFlow |"
   ]
  },
  {
   "cell_type": "markdown",
   "id": "2edf8076-92d9-4c94-99b6-79a10d986a65",
   "metadata": {},
   "source": [
    "<h3>Below are a few examples of evaluating arithmetic expressions in Python</h3>"
   ]
  },
  {
   "cell_type": "code",
   "execution_count": 15,
   "id": "e171187d-b6df-43f8-bcf9-493881a49c4f",
   "metadata": {},
   "outputs": [
    {
     "data": {
      "text/plain": [
       "17"
      ]
     },
     "execution_count": 15,
     "metadata": {},
     "output_type": "execute_result"
    }
   ],
   "source": [
    "# This will convert 200 minutes to hours by diving by 60\n",
    "(3*4)+5"
   ]
  },
  {
   "cell_type": "code",
   "execution_count": 9,
   "id": "a75233dd-70c9-43f0-a8b1-c9f8732de885",
   "metadata": {},
   "outputs": [
    {
     "data": {
      "text/plain": [
       "3.3333333333333335"
      ]
     },
     "execution_count": 9,
     "metadata": {},
     "output_type": "execute_result"
    }
   ],
   "source": [
    "# This will convert 200 minutes to hours by diving by 60\n",
    "200/60"
   ]
  },
  {
   "cell_type": "markdown",
   "id": "35792efe-6e62-4857-8834-acc9c3320e4e",
   "metadata": {},
   "source": [
    "<h2>Author</h2>\n",
    "Rituraj Singh Bisht"
   ]
  }
 ],
 "metadata": {
  "kernelspec": {
   "display_name": "Python 3 (ipykernel)",
   "language": "python",
   "name": "python3"
  },
  "language_info": {
   "codemirror_mode": {
    "name": "ipython",
    "version": 3
   },
   "file_extension": ".py",
   "mimetype": "text/x-python",
   "name": "python",
   "nbconvert_exporter": "python",
   "pygments_lexer": "ipython3",
   "version": "3.11.9"
  }
 },
 "nbformat": 4,
 "nbformat_minor": 5
}
